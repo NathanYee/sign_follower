{
 "cells": [
  {
   "cell_type": "markdown",
   "metadata": {},
   "source": [
    "# Sign Recognizer CNN Data\n",
    "\n",
    "This notebook will create the training data for the sign recognizer CNN"
   ]
  },
  {
   "cell_type": "code",
   "execution_count": 10,
   "metadata": {
    "collapsed": false
   },
   "outputs": [],
   "source": [
    "%matplotlib inline\n",
    "import seaborn as sns\n",
    "\n",
    "import numpy as np\n",
    "\n",
    "from keras.models import Sequential\n",
    "from keras.layers.core import Dense, Activation, Flatten, Dropout\n",
    "from keras.layers import Convolution2D, MaxPooling2D\n",
    "from keras.utils import np_utils\n",
    "from keras.preprocessing import text\n",
    "\n",
    "from keras.preprocessing.image import ImageDataGenerator, img_to_array, load_img\n",
    "\n",
    "from tqdm import tqdm"
   ]
  },
  {
   "cell_type": "code",
   "execution_count": 11,
   "metadata": {
    "collapsed": true
   },
   "outputs": [],
   "source": [
    "img_rows, img_cols = 96, 128\n",
    "in_shape = (img_rows, img_cols, 3)\n",
    "batch_size = 128\n",
    "nb_classes = 99\n",
    "nb_epoch = 180"
   ]
  },
  {
   "cell_type": "markdown",
   "metadata": {},
   "source": [
    "# Make smaller images of non signs"
   ]
  },
  {
   "cell_type": "code",
   "execution_count": 12,
   "metadata": {
    "collapsed": false
   },
   "outputs": [],
   "source": [
    "import glob, os\n",
    "from sklearn.feature_extraction import image\n",
    "from scipy.ndimage import imread\n",
    "from PIL import Image"
   ]
  },
  {
   "cell_type": "code",
   "execution_count": 13,
   "metadata": {
    "collapsed": true
   },
   "outputs": [],
   "source": [
    "os.chdir(\"/home/nathan/olin/spring2017/sign_follower/scripts/data/notSign\")"
   ]
  },
  {
   "cell_type": "code",
   "execution_count": 16,
   "metadata": {
    "collapsed": false
   },
   "outputs": [
    {
     "name": "stdout",
     "output_type": "stream",
     "text": [
      "image1487983720150559902.png\n",
      "image1487983637987307071.png\n",
      "image1487983017568049907.png\n",
      "image1487983400636859893.png\n",
      "image1487983208437509059.png\n",
      "image1487983676750515937.png\n",
      "image1487983615387226104.png\n",
      "image1487983676350526094.png\n",
      "image1487983719150403022.png\n",
      "image1487983402636775970.png\n",
      "image1487983606987179994.png\n",
      "image1487983621987291097.png\n",
      "image1487983406837071895.png\n",
      "image1487983028567923069.png\n",
      "image1487983631387183904.png\n",
      "image1487983451846458911.png\n",
      "image1487983452246438026.png\n",
      "image1487983616987262964.png\n",
      "image1487983592789957046.png\n",
      "image1487983611987137079.png\n",
      "image1487983891725934028.png\n",
      "image1487983450646404981.png\n",
      "image1487983453246376037.png\n",
      "image1487983714350518941.png\n",
      "image1487983640787302970.png\n",
      "image1487983620587362051.png\n",
      "image1487983639387321949.png\n",
      "image1487983648187243938.png\n",
      "image1487983448246397972.png\n",
      "image1487983461646656990.png\n",
      "image1487983393436856985.png\n",
      "image1487983207837519884.png\n",
      "image1487983693550570011.png\n",
      "image1487983407236758947.png\n",
      "image1487983617587249040.png\n",
      "image1487983690550482034.png\n",
      "image1487983459446320056.png\n",
      "image1487983010568021059.png\n",
      "image1487983694350600004.png\n",
      "image1487983011567998886.png\n",
      "image1487983010368004083.png\n",
      "image1487983610187294006.png\n",
      "image1487983726550386905.png\n",
      "image1487983602387284040.png\n",
      "image1487983697350509881.png\n",
      "image1487983679750442028.png\n",
      "image1487983686750472068.png\n",
      "image1487983463446295976.png\n",
      "image1487983012768488883.png\n",
      "image1487983871125744104.png\n"
     ]
    }
   ],
   "source": [
    "for file in glob.glob(\"*.png\"):\n",
    "    print(file)\n",
    "#     print(.shape)\n",
    "    img  = Image.open(file)\n",
    "    data = np.asarray(img)\n",
    "    patches = image.extract_patches_2d(data, (96, 128), max_patches=20)\n",
    "    for i, patch in enumerate(patches):\n",
    "        img = Image.fromarray(patch, 'RGB')\n",
    "        img.save('../train/notSignSmall/{}Patch{}.png'.format(file, i))"
   ]
  },
  {
   "cell_type": "code",
   "execution_count": 71,
   "metadata": {
    "collapsed": false
   },
   "outputs": [
    {
     "data": {
      "text/plain": [
       "(10, 96, 128, 3)"
      ]
     },
     "execution_count": 71,
     "metadata": {},
     "output_type": "execute_result"
    }
   ],
   "source": [
    "patches.shape"
   ]
  },
  {
   "cell_type": "code",
   "execution_count": 72,
   "metadata": {
    "collapsed": false
   },
   "outputs": [],
   "source": []
  },
  {
   "cell_type": "code",
   "execution_count": null,
   "metadata": {
    "collapsed": true
   },
   "outputs": [],
   "source": []
  }
 ],
 "metadata": {
  "kernelspec": {
   "display_name": "Python deep learning",
   "language": "python",
   "name": "deeplearning"
  },
  "language_info": {
   "codemirror_mode": {
    "name": "ipython",
    "version": 3
   },
   "file_extension": ".py",
   "mimetype": "text/x-python",
   "name": "python",
   "nbconvert_exporter": "python",
   "pygments_lexer": "ipython3",
   "version": "3.5.2"
  }
 },
 "nbformat": 4,
 "nbformat_minor": 2
}
